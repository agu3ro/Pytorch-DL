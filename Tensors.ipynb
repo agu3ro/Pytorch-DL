{
  "nbformat": 4,
  "nbformat_minor": 0,
  "metadata": {
    "colab": {
      "provenance": [],
      "gpuType": "T4",
      "authorship_tag": "ABX9TyPRgKigg+AK0loD36mor42Q",
      "include_colab_link": true
    },
    "kernelspec": {
      "name": "python3",
      "display_name": "Python 3"
    },
    "language_info": {
      "name": "python"
    },
    "accelerator": "GPU"
  },
  "cells": [
    {
      "cell_type": "markdown",
      "metadata": {
        "id": "view-in-github",
        "colab_type": "text"
      },
      "source": [
        "<a href=\"https://colab.research.google.com/github/agu3ro/Pytorch-DL/blob/main/Tensors.ipynb\" target=\"_parent\"><img src=\"https://colab.research.google.com/assets/colab-badge.svg\" alt=\"Open In Colab\"/></a>"
      ]
    },
    {
      "cell_type": "code",
      "execution_count": 2,
      "metadata": {
        "id": "4havoMORVpdx"
      },
      "outputs": [],
      "source": [
        "import torch\n",
        "import numpy as np\n",
        "\n"
      ]
    },
    {
      "cell_type": "markdown",
      "source": [
        "### Lists"
      ],
      "metadata": {
        "id": "13pD6O6R9vbg"
      }
    },
    {
      "cell_type": "code",
      "source": [
        "my_list = [1,2,3,4,5]\n",
        "my_list_2 = [[1,2,3,4,5],[6,7,8,9,10]]\n",
        "print(my_list)\n",
        "print(my_list_2)"
      ],
      "metadata": {
        "colab": {
          "base_uri": "https://localhost:8080/"
        },
        "id": "wcIgCK1F9x41",
        "outputId": "49f72a06-e036-4f36-ee7c-b193a365ea07"
      },
      "execution_count": 3,
      "outputs": [
        {
          "output_type": "stream",
          "name": "stdout",
          "text": [
            "[1, 2, 3, 4, 5]\n",
            "[[1, 2, 3, 4, 5], [6, 7, 8, 9, 10]]\n"
          ]
        }
      ]
    },
    {
      "cell_type": "markdown",
      "source": [
        "## NumPy array"
      ],
      "metadata": {
        "id": "qU8vCooE-8o6"
      }
    },
    {
      "cell_type": "code",
      "source": [
        "np1 = np.random.rand(3,4)\n",
        "print(np1)"
      ],
      "metadata": {
        "colab": {
          "base_uri": "https://localhost:8080/"
        },
        "id": "-NMJmQA1--NG",
        "outputId": "ee16b9b3-8a74-4922-ec78-1dae6251162d"
      },
      "execution_count": 4,
      "outputs": [
        {
          "output_type": "stream",
          "name": "stdout",
          "text": [
            "[[0.20004232 0.88588836 0.71309925 0.65699878]\n",
            " [0.02109382 0.44178612 0.35882893 0.87810206]\n",
            " [0.599937   0.40969353 0.26794507 0.28579695]]\n"
          ]
        }
      ]
    },
    {
      "cell_type": "markdown",
      "source": [
        "## TENSORS"
      ],
      "metadata": {
        "id": "AdJHHT-N_qnn"
      }
    },
    {
      "cell_type": "code",
      "source": [
        "tensor_2d = torch.randn(3,4)\n",
        "print(tensor_2d)\n",
        "\n",
        "tensor_3d = torch.zeros(2,3,4) # 2nd number is how many dimensionals\n",
        "print(tensor_3d)"
      ],
      "metadata": {
        "colab": {
          "base_uri": "https://localhost:8080/"
        },
        "id": "3ARKF5V6_lk6",
        "outputId": "3ca02c8f-fcd3-4b2b-c49f-2ab69285f8c2"
      },
      "execution_count": 5,
      "outputs": [
        {
          "output_type": "stream",
          "name": "stdout",
          "text": [
            "tensor([[-0.1653, -0.0291,  0.5773,  0.2421],\n",
            "        [ 0.8029,  0.4478,  1.0126,  1.4139],\n",
            "        [ 0.3375,  1.4161,  0.4938, -0.8461]])\n",
            "tensor([[[0., 0., 0., 0.],\n",
            "         [0., 0., 0., 0.],\n",
            "         [0., 0., 0., 0.]],\n",
            "\n",
            "        [[0., 0., 0., 0.],\n",
            "         [0., 0., 0., 0.],\n",
            "         [0., 0., 0., 0.]]])\n"
          ]
        }
      ]
    },
    {
      "cell_type": "markdown",
      "source": [
        "Create TENSOR out of NumPy array"
      ],
      "metadata": {
        "id": "pxYHTFfNAgmv"
      }
    },
    {
      "cell_type": "code",
      "source": [
        "tensor_copy = torch.Tensor(np1)\n",
        "tensor_copy"
      ],
      "metadata": {
        "colab": {
          "base_uri": "https://localhost:8080/"
        },
        "id": "txtUATWiAmlS",
        "outputId": "fb95df43-9c22-45a8-d714-4e5a6dc732b7"
      },
      "execution_count": 6,
      "outputs": [
        {
          "output_type": "execute_result",
          "data": {
            "text/plain": [
              "tensor([[0.2000, 0.8859, 0.7131, 0.6570],\n",
              "        [0.0211, 0.4418, 0.3588, 0.8781],\n",
              "        [0.5999, 0.4097, 0.2679, 0.2858]])"
            ]
          },
          "metadata": {},
          "execution_count": 6
        }
      ]
    }
  ]
}