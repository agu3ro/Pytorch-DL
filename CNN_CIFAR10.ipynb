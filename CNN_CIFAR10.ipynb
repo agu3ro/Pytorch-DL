{
  "nbformat": 4,
  "nbformat_minor": 0,
  "metadata": {
    "colab": {
      "provenance": [],
      "authorship_tag": "ABX9TyOVKTEKnbN/5j+Jm83syWbg",
      "include_colab_link": true
    },
    "kernelspec": {
      "name": "python3",
      "display_name": "Python 3"
    },
    "language_info": {
      "name": "python"
    }
  },
  "cells": [
    {
      "cell_type": "markdown",
      "metadata": {
        "id": "view-in-github",
        "colab_type": "text"
      },
      "source": [
        "<a href=\"https://colab.research.google.com/github/agu3ro/Pytorch-DL/blob/main/CNN_CIFAR10.ipynb\" target=\"_parent\"><img src=\"https://colab.research.google.com/assets/colab-badge.svg\" alt=\"Open In Colab\"/></a>"
      ]
    },
    {
      "cell_type": "code",
      "execution_count": null,
      "metadata": {
        "id": "ggYjLhpdtCBw"
      },
      "outputs": [],
      "source": [
        "import pandas as pd\n",
        "import numpy as np\n",
        "import torch\n",
        "%matplotlib inline\n",
        "from sklearn.metrics import confusion_matrix\n",
        "from torch.utils.data import DataLoader\n",
        "from torchvision import datasets, transforms\n",
        "from torchvision.utils import make_grid\n",
        "import matplotlib.pyplot as plt"
      ]
    },
    {
      "cell_type": "code",
      "source": [
        "train_data = datasets.CIFAR10(root='/cnn_data', download=True, train=True, transform=transforms.Compose([transforms.ToTensor(), transforms.Normalize((0.5,0.5,0.5), (0.5,0.5,0.5))]))\n",
        "test_data = datasets.CIFAR10(root='/cnn_data', download=True, train=False, transform=transforms.Compose([transforms.ToTensor(), transforms.Normalize((0.5,0.5,0.5), (0.5,0.5,0.5))]))"
      ],
      "metadata": {
        "id": "2LYcs7Iv2ICZ",
        "colab": {
          "base_uri": "https://localhost:8080/"
        },
        "outputId": "de5b10bb-1548-4cc0-d433-0ad3ed1c801a"
      },
      "execution_count": null,
      "outputs": [
        {
          "output_type": "stream",
          "name": "stdout",
          "text": [
            "Files already downloaded and verified\n",
            "Files already downloaded and verified\n"
          ]
        }
      ]
    },
    {
      "cell_type": "code",
      "source": [
        "train_loader = DataLoader(train_data, batch_size=10, shuffle=True, num_workers=0)\n",
        "test_loader = DataLoader(test_data, batch_size=10, shuffle=False, num_workers=0)"
      ],
      "metadata": {
        "id": "gWbLecLRFS6x"
      },
      "execution_count": null,
      "outputs": []
    },
    {
      "cell_type": "code",
      "source": [
        "class Model(torch.nn.Module):\n",
        "  def __init__(self):\n",
        "    super().__init__()\n",
        "    self.conv1 = torch.nn.Conv2d(3,6,3,1)\n",
        "    self.conv2 = torch.nn.Conv2d(6,16,3,1)\n",
        "    self.fc1 = torch.nn.Linear(16*6*6, 128)\n",
        "    self.fc2 = torch.nn.Linear(128,84)\n",
        "    self.fc3 = torch.nn.Linear(84,10)\n",
        "\n",
        "  def forward(self,x):\n",
        "    x = torch.nn.functional.relu(self.conv1(x))\n",
        "    x = torch.nn.functional.max_pool2d(x,2,2)\n",
        "    x = torch.nn.functional.relu(self.conv2(x))\n",
        "    x = torch.nn.functional.max_pool2d(x,2,2)\n",
        "    x = x.view(-1,16*6*6)\n",
        "    x = torch.nn.functional.relu(self.fc1(x))\n",
        "    x = torch.nn.functional.relu(self.fc2(x))\n",
        "    x = self.fc3(x)\n",
        "    return torch.nn.functional.log_softmax(x, dim=1)"
      ],
      "metadata": {
        "id": "Z6-Y0t5MH6Bt"
      },
      "execution_count": null,
      "outputs": []
    },
    {
      "cell_type": "code",
      "source": [
        "model = Model()"
      ],
      "metadata": {
        "id": "UPERdvjxIzbw"
      },
      "execution_count": null,
      "outputs": []
    },
    {
      "cell_type": "code",
      "source": [
        "optimizer = torch.optim.Adam(model.parameters(), lr=0.001)\n",
        "criterion = torch.nn.CrossEntropyLoss()"
      ],
      "metadata": {
        "id": "3v5NArFzJfLD"
      },
      "execution_count": null,
      "outputs": []
    },
    {
      "cell_type": "code",
      "source": [
        "train_losses = []\n",
        "train_corr = []\n",
        "for i in range(5):\n",
        "  trn_corr = 0\n",
        "  for b, (X_train, y_train) in enumerate(train_loader):\n",
        "    b+=1\n",
        "    y_pred = model(X_train)\n",
        "    loss = criterion(y_pred, y_train)\n",
        "    predicted = torch.max(y_pred.data, 1)[1]\n",
        "    batch_corr = (predicted == y_train).sum()\n",
        "    trn_corr+=batch_corr\n",
        "\n",
        "    if b%600==0:\n",
        "      print(f\"Epoch: {i}, batch: {b}, loss:{loss}\")\n",
        "\n",
        "\n",
        "    optimizer.zero_grad()\n",
        "    loss.backward()\n",
        "    optimizer.step()\n",
        "  train_losses.append(loss)\n",
        "  train_corr.append(trn_corr)"
      ],
      "metadata": {
        "colab": {
          "base_uri": "https://localhost:8080/"
        },
        "id": "lspNQC4DKYpF",
        "outputId": "b6ba8547-1d5b-45ee-e3f2-489ca31ff2f1"
      },
      "execution_count": null,
      "outputs": [
        {
          "output_type": "stream",
          "name": "stdout",
          "text": [
            "Epoch: 0, batch: 600, loss:1.7530399560928345\n",
            "Epoch: 0, batch: 1200, loss:1.3372374773025513\n",
            "Epoch: 0, batch: 1800, loss:1.2139812707901\n",
            "Epoch: 0, batch: 2400, loss:1.296354055404663\n",
            "Epoch: 0, batch: 3000, loss:1.2719401121139526\n",
            "Epoch: 0, batch: 3600, loss:1.1064012050628662\n",
            "Epoch: 0, batch: 4200, loss:1.4866300821304321\n",
            "Epoch: 0, batch: 4800, loss:0.5882225632667542\n",
            "Epoch: 1, batch: 600, loss:1.5917177200317383\n",
            "Epoch: 1, batch: 1200, loss:0.9822037816047668\n",
            "Epoch: 1, batch: 1800, loss:1.2126948833465576\n",
            "Epoch: 1, batch: 2400, loss:1.241491436958313\n",
            "Epoch: 1, batch: 3000, loss:1.4944592714309692\n",
            "Epoch: 1, batch: 3600, loss:1.280202031135559\n",
            "Epoch: 1, batch: 4200, loss:1.7444982528686523\n",
            "Epoch: 1, batch: 4800, loss:1.2423657178878784\n",
            "Epoch: 2, batch: 600, loss:0.955278754234314\n",
            "Epoch: 2, batch: 1200, loss:1.3235126733779907\n",
            "Epoch: 2, batch: 1800, loss:0.9637511968612671\n",
            "Epoch: 2, batch: 2400, loss:1.0418092012405396\n",
            "Epoch: 2, batch: 3000, loss:0.44901713728904724\n",
            "Epoch: 2, batch: 3600, loss:1.3908940553665161\n",
            "Epoch: 2, batch: 4200, loss:0.8078662753105164\n",
            "Epoch: 2, batch: 4800, loss:1.3752107620239258\n",
            "Epoch: 3, batch: 600, loss:0.8892894983291626\n",
            "Epoch: 3, batch: 1200, loss:0.31734442710876465\n",
            "Epoch: 3, batch: 1800, loss:0.9505209922790527\n",
            "Epoch: 3, batch: 2400, loss:1.0437971353530884\n",
            "Epoch: 3, batch: 3000, loss:0.8005315065383911\n",
            "Epoch: 3, batch: 3600, loss:1.0176568031311035\n",
            "Epoch: 3, batch: 4200, loss:0.41139426827430725\n",
            "Epoch: 3, batch: 4800, loss:0.8667996525764465\n",
            "Epoch: 4, batch: 600, loss:0.9941631555557251\n",
            "Epoch: 4, batch: 1200, loss:1.328965425491333\n",
            "Epoch: 4, batch: 1800, loss:1.3297054767608643\n",
            "Epoch: 4, batch: 2400, loss:0.7401944398880005\n",
            "Epoch: 4, batch: 3000, loss:1.2640758752822876\n",
            "Epoch: 4, batch: 3600, loss:0.4733141362667084\n",
            "Epoch: 4, batch: 4200, loss:0.7045591473579407\n",
            "Epoch: 4, batch: 4800, loss:1.0912665128707886\n"
          ]
        }
      ]
    },
    {
      "cell_type": "code",
      "source": [
        "plt.plot([t.item() for t in train_losses], label='train_losses')"
      ],
      "metadata": {
        "colab": {
          "base_uri": "https://localhost:8080/"
        },
        "id": "PPDhGfbQNMvF",
        "outputId": "daf8487e-3c1e-4c6c-a996-8ca45e815fe1"
      },
      "execution_count": null,
      "outputs": [
        {
          "output_type": "execute_result",
          "data": {
            "text/plain": [
              "[<matplotlib.lines.Line2D at 0x7afcd6825de0>]"
            ]
          },
          "metadata": {},
          "execution_count": 25
        },
        {
          "output_type": "display_data",
          "data": {
            "text/plain": [
              "<Figure size 640x480 with 1 Axes>"
            ],
            "image/png": "[encoded data removed]"
          },
          "metadata": {}
        }
      ]
    },
    {
      "cell_type": "code",
      "source": [
        "train_corr"
      ],
      "metadata": {
        "colab": {
          "base_uri": "https://localhost:8080/"
        },
        "id": "2Hd92fsXO7zd",
        "outputId": "65744be7-cd21-42cd-e34e-45c8b61bcea0"
      },
      "execution_count": null,
      "outputs": [
        {
          "output_type": "execute_result",
          "data": {
            "text/plain": [
              "[tensor(23366), tensor(28794), tensor(31153), tensor(32447), tensor(33754)]"
            ]
          },
          "metadata": {},
          "execution_count": 26
        }
      ]
    },
    {
      "cell_type": "code",
      "source": [
        "(train_corr[4]/50000).item()\n"
      ],
      "metadata": {
        "colab": {
          "base_uri": "https://localhost:8080/"
        },
        "id": "bB5VJ-92PGlW",
        "outputId": "87d1c71e-e6a2-44f6-a669-2e04f848e2ea"
      },
      "execution_count": null,
      "outputs": [
        {
          "output_type": "execute_result",
          "data": {
            "text/plain": [
              "0.6750800013542175"
            ]
          },
          "metadata": {},
          "execution_count": 27
        }
      ]
    },
    {
      "cell_type": "code",
      "source": [],
      "metadata": {
        "id": "igpTQeqtPNhp"
      },
      "execution_count": null,
      "outputs": []
    }
  ]
}