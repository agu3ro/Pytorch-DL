{
  "nbformat": 4,
  "nbformat_minor": 0,
  "metadata": {
    "colab": {
      "provenance": [],
      "gpuType": "T4",
      "authorship_tag": "ABX9TyPsUG7wQf4aDhIPeY5VNtXT",
      "include_colab_link": true
    },
    "kernelspec": {
      "name": "python3",
      "display_name": "Python 3"
    },
    "language_info": {
      "name": "python"
    },
    "accelerator": "GPU"
  },
  "cells": [
    {
      "cell_type": "markdown",
      "metadata": {
        "id": "view-in-github",
        "colab_type": "text"
      },
      "source": [
        "<a href=\"https://colab.research.google.com/github/agu3ro/Pytorch-DL/blob/main/CNN_CIFAR10.ipynb\" target=\"_parent\"><img src=\"https://colab.research.google.com/assets/colab-badge.svg\" alt=\"Open In Colab\"/></a>"
      ]
    },
    {
      "cell_type": "code",
      "execution_count": 2,
      "metadata": {
        "id": "ggYjLhpdtCBw"
      },
      "outputs": [],
      "source": [
        "import pandas as pd\n",
        "import numpy as np\n",
        "import torch\n",
        "%matplotlib inline\n",
        "from sklearn.metrics import confusion_matrix\n",
        "from torch.utils.data import DataLoader\n",
        "from torchvision import datasets, transforms\n",
        "from torchvision.utils import make_grid\n",
        "import matplotlib.pyplot as plt"
      ]
    },
    {
      "cell_type": "code",
      "source": [
        "train_data = datasets.CIFAR10(root='/cnn_data', download=True, train=True, transform=transforms.Compose([transforms.RandomHorizontalFlip(), transforms.RandomCrop(size=32, padding=2), transforms.ToTensor(), transforms.Normalize((0.5,0.5,0.5), (0.5,0.5,0.5))]))\n",
        "test_data = datasets.CIFAR10(root='/cnn_data', download=True, train=False, transform=transforms.Compose([transforms.ToTensor(), transforms.Normalize((0.5,0.5,0.5), (0.5,0.5,0.5))]))"
      ],
      "metadata": {
        "id": "2LYcs7Iv2ICZ",
        "colab": {
          "base_uri": "https://localhost:8080/"
        },
        "outputId": "448d4c6e-60cb-4041-9e28-a9e55d9a98d3"
      },
      "execution_count": 4,
      "outputs": [
        {
          "output_type": "stream",
          "name": "stdout",
          "text": [
            "Downloading https://www.cs.toronto.edu/~kriz/cifar-10-python.tar.gz to /cnn_data/cifar-10-python.tar.gz\n"
          ]
        },
        {
          "output_type": "stream",
          "name": "stderr",
          "text": [
            "100%|██████████| 170M/170M [00:01<00:00, 88.2MB/s]\n"
          ]
        },
        {
          "output_type": "stream",
          "name": "stdout",
          "text": [
            "Extracting /cnn_data/cifar-10-python.tar.gz to /cnn_data\n",
            "Files already downloaded and verified\n"
          ]
        }
      ]
    },
    {
      "cell_type": "code",
      "source": [
        "train_loader = DataLoader(train_data, batch_size=16, shuffle=True, num_workers=0)\n",
        "test_loader = DataLoader(test_data, batch_size=16, shuffle=False, num_workers=0)"
      ],
      "metadata": {
        "id": "gWbLecLRFS6x"
      },
      "execution_count": 5,
      "outputs": []
    },
    {
      "cell_type": "code",
      "source": [
        "class Model(torch.nn.Module):\n",
        "  def __init__(self):\n",
        "    super().__init__()\n",
        "    self.conv1 = torch.nn.Conv2d(3,32,3,1)\n",
        "    self.bn1 = torch.nn.BatchNorm2d(32)\n",
        "    self.conv2 = torch.nn.Conv2d(32,64,3,1)\n",
        "    self.bn2 = torch.nn.BatchNorm2d(64)\n",
        "    self.fc1 = torch.nn.Linear(64*6*6, 256)\n",
        "    self.fc2 = torch.nn.Linear(256,128)\n",
        "    self.fc3 = torch.nn.Linear(128,10)\n",
        "    self.dropout = torch.nn.Dropout(p=0.5)\n",
        "\n",
        "  def forward(self,x):\n",
        "    x = torch.nn.functional.relu(self.conv1(x))\n",
        "    x = self.bn1(x)\n",
        "    x = torch.nn.functional.max_pool2d(x,2,2)\n",
        "    x = torch.nn.functional.relu(self.conv2(x))\n",
        "    x = self.bn2(x)\n",
        "    x = torch.nn.functional.max_pool2d(x,2,2)\n",
        "    x = x.view(-1,64*6*6)\n",
        "    x = torch.nn.functional.relu(self.fc1(x))\n",
        "    x = torch.nn.functional.relu(self.fc2(x))\n",
        "    x = self.fc3(x)\n",
        "    return torch.nn.functional.log_softmax(x, dim=1)"
      ],
      "metadata": {
        "id": "Z6-Y0t5MH6Bt"
      },
      "execution_count": 7,
      "outputs": []
    },
    {
      "cell_type": "code",
      "source": [
        "model = Model()"
      ],
      "metadata": {
        "id": "UPERdvjxIzbw"
      },
      "execution_count": 8,
      "outputs": []
    },
    {
      "cell_type": "code",
      "source": [
        "optimizer = torch.optim.Adam(model.parameters(), lr=0.00005, weight_decay=0.000005)\n",
        "criterion = torch.nn.CrossEntropyLoss()"
      ],
      "metadata": {
        "id": "3v5NArFzJfLD"
      },
      "execution_count": 15,
      "outputs": []
    },
    {
      "cell_type": "code",
      "source": [
        "train_losses = []\n",
        "train_corr = []\n",
        "for i in range(5):\n",
        "  trn_corr = 0\n",
        "  for b, (X_train, y_train) in enumerate(train_loader):\n",
        "    b+=1\n",
        "    y_pred = model(X_train)\n",
        "    loss = criterion(y_pred, y_train)\n",
        "    predicted = torch.max(y_pred.data, 1)[1]\n",
        "    batch_corr = (predicted == y_train).sum()\n",
        "    trn_corr+=batch_corr\n",
        "\n",
        "    if b%600==0:\n",
        "      print(f\"Epoch: {i}, batch: {b}, loss:{loss}\")\n",
        "\n",
        "\n",
        "    optimizer.zero_grad()\n",
        "    loss.backward()\n",
        "    optimizer.step()\n",
        "  train_losses.append(loss)\n",
        "  train_corr.append(trn_corr)"
      ],
      "metadata": {
        "colab": {
          "base_uri": "https://localhost:8080/"
        },
        "id": "lspNQC4DKYpF",
        "outputId": "cc5ef15f-36fe-481d-adb1-9b42566b58d8"
      },
      "execution_count": 16,
      "outputs": [
        {
          "output_type": "stream",
          "name": "stdout",
          "text": [
            "Epoch: 0, batch: 600, loss:0.42011940479278564\n",
            "Epoch: 0, batch: 1200, loss:0.6090418696403503\n",
            "Epoch: 0, batch: 1800, loss:0.5501678586006165\n",
            "Epoch: 0, batch: 2400, loss:0.5010464191436768\n",
            "Epoch: 0, batch: 3000, loss:0.2848893404006958\n",
            "Epoch: 1, batch: 600, loss:0.6785656213760376\n",
            "Epoch: 1, batch: 1200, loss:0.30921033024787903\n",
            "Epoch: 1, batch: 1800, loss:0.4714004099369049\n",
            "Epoch: 1, batch: 2400, loss:0.18654118478298187\n",
            "Epoch: 1, batch: 3000, loss:0.38463208079338074\n",
            "Epoch: 2, batch: 600, loss:0.35304489731788635\n",
            "Epoch: 2, batch: 1200, loss:0.09289393573999405\n",
            "Epoch: 2, batch: 1800, loss:0.08686241507530212\n",
            "Epoch: 2, batch: 2400, loss:0.4106784164905548\n",
            "Epoch: 2, batch: 3000, loss:0.21843527257442474\n",
            "Epoch: 3, batch: 600, loss:0.2616579532623291\n",
            "Epoch: 3, batch: 1200, loss:0.09807386249303818\n",
            "Epoch: 3, batch: 1800, loss:0.2874792516231537\n",
            "Epoch: 3, batch: 2400, loss:0.7201911807060242\n",
            "Epoch: 3, batch: 3000, loss:0.29876384139060974\n",
            "Epoch: 4, batch: 600, loss:0.10857052356004715\n",
            "Epoch: 4, batch: 1200, loss:0.15080057084560394\n",
            "Epoch: 4, batch: 1800, loss:0.20784813165664673\n",
            "Epoch: 4, batch: 2400, loss:0.09354862570762634\n",
            "Epoch: 4, batch: 3000, loss:0.697089672088623\n"
          ]
        }
      ]
    },
    {
      "cell_type": "code",
      "source": [
        "plt.plot([t.item() for t in train_losses], label='train_losses')"
      ],
      "metadata": {
        "colab": {
          "base_uri": "https://localhost:8080/",
          "height": 447
        },
        "id": "PPDhGfbQNMvF",
        "outputId": "09597df9-9319-45a8-f6ec-c5b0ba506dd0"
      },
      "execution_count": 17,
      "outputs": [
        {
          "output_type": "execute_result",
          "data": {
            "text/plain": [
              "[<matplotlib.lines.Line2D at 0x7b4364521ea0>]"
            ]
          },
          "metadata": {},
          "execution_count": 17
        },
        {
          "output_type": "display_data",
          "data": {
            "text/plain": [
              "<Figure size 640x480 with 1 Axes>"
            ],
            "image/png": "[encoded data removed]"
          },
          "metadata": {}
        }
      ]
    },
    {
      "cell_type": "code",
      "source": [
        "train_corr"
      ],
      "metadata": {
        "colab": {
          "base_uri": "https://localhost:8080/"
        },
        "id": "2Hd92fsXO7zd",
        "outputId": "6fa53bb1-9485-4f9b-bf7f-f3162475f7fd"
      },
      "execution_count": 18,
      "outputs": [
        {
          "output_type": "execute_result",
          "data": {
            "text/plain": [
              "[tensor(43786), tensor(43832), tensor(44052), tensor(44089), tensor(44235)]"
            ]
          },
          "metadata": {},
          "execution_count": 18
        }
      ]
    },
    {
      "cell_type": "code",
      "source": [
        "(train_corr[4]/50000).item()\n"
      ],
      "metadata": {
        "colab": {
          "base_uri": "https://localhost:8080/"
        },
        "id": "bB5VJ-92PGlW",
        "outputId": "fcf428fa-c5ac-44b0-bea0-34578e5d6848"
      },
      "execution_count": 19,
      "outputs": [
        {
          "output_type": "execute_result",
          "data": {
            "text/plain": [
              "0.8847000002861023"
            ]
          },
          "metadata": {},
          "execution_count": 19
        }
      ]
    },
    {
      "cell_type": "code",
      "source": [
        "test_corr = 0\n",
        "test_losses = []\n",
        "with torch.no_grad():\n",
        "  for b, (X_test, y_test) in enumerate(test_loader):\n",
        "    y_val = model(X_test)\n",
        "    loss = criterion(y_val, y_test)\n",
        "    predicted = torch.max(y_pred.data, 1)[1]\n",
        "    batch_corr = (predicted == y_train).sum()\n",
        "    test_corr+=batch_corr\n",
        "    if b%600==0:\n",
        "      print(f\"batch: {b}, loss:{loss}\")\n",
        "    test_losses.append(loss)\n",
        "\n",
        "  print(f\"Test accuracy: {test_corr/10000}\")"
      ],
      "metadata": {
        "id": "igpTQeqtPNhp",
        "outputId": "f76f4ea3-7103-4a52-ca6e-923922604ce4",
        "colab": {
          "base_uri": "https://localhost:8080/"
        }
      },
      "execution_count": 20,
      "outputs": [
        {
          "output_type": "stream",
          "name": "stdout",
          "text": [
            "batch: 0, loss:0.11405224353075027\n",
            "batch: 600, loss:0.6920161843299866\n",
            "Test accuracy: 0.875\n"
          ]
        }
      ]
    }
  ]
}