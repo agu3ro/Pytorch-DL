{
  "nbformat": 4,
  "nbformat_minor": 0,
  "metadata": {
    "colab": {
      "provenance": [],
      "authorship_tag": "ABX9TyO4rCkoVHdrf2QNWvQeLys1",
      "include_colab_link": true
    },
    "kernelspec": {
      "name": "python3",
      "display_name": "Python 3"
    },
    "language_info": {
      "name": "python"
    }
  },
  "cells": [
    {
      "cell_type": "markdown",
      "metadata": {
        "id": "view-in-github",
        "colab_type": "text"
      },
      "source": [
        "<a href=\"https://colab.research.google.com/github/agu3ro/Pytorch-DL/blob/main/CNN_fashion_MNIST.ipynb\" target=\"_parent\"><img src=\"https://colab.research.google.com/assets/colab-badge.svg\" alt=\"Open In Colab\"/></a>"
      ]
    },
    {
      "cell_type": "code",
      "execution_count": 27,
      "metadata": {
        "id": "-kivgM9S3lp5"
      },
      "outputs": [],
      "source": [
        "import pandas as pd\n",
        "import numpy as np\n",
        "import torch\n",
        "from torch.utils.data import DataLoader\n",
        "from torchvision import datasets, transforms\n",
        "from torchvision.utils import make_grid\n",
        "from sklearn.metrics import confusion_matrix\n",
        "import matplotlib.pyplot as plt\n",
        "%matplotlib inline"
      ]
    },
    {
      "cell_type": "code",
      "source": [
        "train_data = datasets.FashionMNIST(root='/cnn_fashion_mnist', download=True, train=True, transform=transforms.ToTensor())\n",
        "test_data = datasets.FashionMNIST(root='/cnn_fashion_mnist', download=True, train=False, transform=transforms.ToTensor())"
      ],
      "metadata": {
        "id": "6mbhlCqe36MD"
      },
      "execution_count": 28,
      "outputs": []
    },
    {
      "cell_type": "code",
      "source": [
        "train_loader = DataLoader(train_data, batch_size = 10, shuffle=True)\n",
        "test_loader = DataLoader(test_data, batch_size = 10, shuffle=False)"
      ],
      "metadata": {
        "id": "fICR80Xz4Lxj"
      },
      "execution_count": 29,
      "outputs": []
    },
    {
      "cell_type": "code",
      "source": [
        "# conv1 pool2d conv2 pool2d\n",
        "# (((28-2)/2)-2)/2\n",
        "# 16 5 5 cause x.shape is [1,16,5,5]"
      ],
      "metadata": {
        "id": "OcHyR5TR5SNt"
      },
      "execution_count": 30,
      "outputs": []
    },
    {
      "cell_type": "code",
      "source": [
        "class FashionModel(torch.nn.Module):\n",
        "  def __init__(self):\n",
        "    super().__init__()\n",
        "    self.conv1 = torch.nn.Conv2d(1,6,3,1)\n",
        "    self.conv2 = torch.nn.Conv2d(6,16,3,1)\n",
        "    self.fc1 = torch.nn.Linear(16*5*5,120)\n",
        "    self.fc2 = torch.nn.Linear(120,84)\n",
        "    self.fc3 = torch.nn.Linear(84,10)\n",
        "\n",
        "  def forward(self,x):\n",
        "    x = torch.nn.functional.relu(self.conv1(x))\n",
        "    x = torch.nn.functional.max_pool2d(x,2,2)\n",
        "    x = torch.nn.functional.relu(self.conv2(x))\n",
        "    x = torch.nn.functional.max_pool2d(x,2,2)\n",
        "    x = x.view(-1,16*5*5)\n",
        "    x = torch.nn.functional.relu(self.fc1(x))\n",
        "    x = torch.nn.functional.relu(self.fc2(x))\n",
        "    x = self.fc3(x)\n",
        "    return torch.nn.functional.log_softmax(x, dim=1)"
      ],
      "metadata": {
        "id": "zEP8hUng4YPZ"
      },
      "execution_count": 31,
      "outputs": []
    },
    {
      "cell_type": "code",
      "source": [
        "model = FashionModel()\n",
        "criterion = torch.nn.CrossEntropyLoss()\n",
        "optimizer = torch.optim.Adam(model.parameters(), lr=0.0005)"
      ],
      "metadata": {
        "id": "w5TR2JAF7b6P"
      },
      "execution_count": 32,
      "outputs": []
    },
    {
      "cell_type": "code",
      "source": [
        "import time\n",
        "time_start = time.time()\n",
        "\n",
        "train_correct = []\n",
        "test_correct = []\n",
        "for i in range(5):\n",
        "  trn_corr = 0\n",
        "  tst_corr = 0\n",
        "  for b, (X_train, y_train) in enumerate(train_loader):\n",
        "    b+=1\n",
        "    y_pred = model(X_train)\n",
        "    loss = criterion(y_pred, y_train)\n",
        "    predicted = torch.max(y_pred.data, 1)[1]\n",
        "    batch_corr = (predicted==y_train).sum()\n",
        "    trn_corr += batch_corr\n",
        "    optimizer.zero_grad()\n",
        "    loss.backward()\n",
        "    optimizer.step()\n",
        "    if b%600==0:\n",
        "      print(f\"epoch: {i}, batch: {b}, loss: {loss}\")\n",
        "  train_correct.append(trn_corr)\n",
        "  train_losses.append(loss)\n",
        "\n",
        "end_time = time.time()\n",
        "est_time = end_time - time_start\n",
        "print(f\"This whole thing took colab {est_time/60} minutes to process.\")"
      ],
      "metadata": {
        "colab": {
          "base_uri": "https://localhost:8080/"
        },
        "id": "p0EQLPof6_tp",
        "outputId": "5911ecd8-c618-4a24-8b07-b31878c3aa71"
      },
      "execution_count": 33,
      "outputs": [
        {
          "output_type": "stream",
          "name": "stdout",
          "text": [
            "epoch: 0, batch: 600, loss: 0.8523171544075012\n",
            "epoch: 0, batch: 1200, loss: 0.213828444480896\n",
            "epoch: 0, batch: 1800, loss: 0.7580426335334778\n",
            "epoch: 0, batch: 2400, loss: 0.5885034799575806\n",
            "epoch: 0, batch: 3000, loss: 0.31034502387046814\n",
            "epoch: 0, batch: 3600, loss: 0.5360387563705444\n",
            "epoch: 0, batch: 4200, loss: 0.41719111800193787\n",
            "epoch: 0, batch: 4800, loss: 0.1717531383037567\n",
            "epoch: 0, batch: 5400, loss: 0.7794926166534424\n",
            "epoch: 0, batch: 6000, loss: 0.32713475823402405\n",
            "epoch: 1, batch: 600, loss: 0.5158043503761292\n",
            "epoch: 1, batch: 1200, loss: 0.3489619493484497\n",
            "epoch: 1, batch: 1800, loss: 0.16423971951007843\n",
            "epoch: 1, batch: 2400, loss: 0.24665434658527374\n",
            "epoch: 1, batch: 3000, loss: 0.51242595911026\n",
            "epoch: 1, batch: 3600, loss: 0.2904837727546692\n",
            "epoch: 1, batch: 4200, loss: 0.3466109037399292\n",
            "epoch: 1, batch: 4800, loss: 0.06422334909439087\n",
            "epoch: 1, batch: 5400, loss: 0.2891441583633423\n",
            "epoch: 1, batch: 6000, loss: 0.2614697813987732\n",
            "epoch: 2, batch: 600, loss: 0.14355100691318512\n",
            "epoch: 2, batch: 1200, loss: 0.23590178787708282\n",
            "epoch: 2, batch: 1800, loss: 0.2978583872318268\n",
            "epoch: 2, batch: 2400, loss: 0.2957638204097748\n",
            "epoch: 2, batch: 3000, loss: 0.25652116537094116\n",
            "epoch: 2, batch: 3600, loss: 0.6982277631759644\n",
            "epoch: 2, batch: 4200, loss: 0.5704725384712219\n",
            "epoch: 2, batch: 4800, loss: 0.5668701529502869\n",
            "epoch: 2, batch: 5400, loss: 0.35445234179496765\n",
            "epoch: 2, batch: 6000, loss: 0.10504869371652603\n",
            "epoch: 3, batch: 600, loss: 0.09532228857278824\n",
            "epoch: 3, batch: 1200, loss: 0.20208454132080078\n",
            "epoch: 3, batch: 1800, loss: 0.32630637288093567\n",
            "epoch: 3, batch: 2400, loss: 0.7057926654815674\n",
            "epoch: 3, batch: 3000, loss: 0.3202002942562103\n",
            "epoch: 3, batch: 3600, loss: 0.0950394719839096\n",
            "epoch: 3, batch: 4200, loss: 0.5990303754806519\n",
            "epoch: 3, batch: 4800, loss: 0.33825963735580444\n",
            "epoch: 3, batch: 5400, loss: 0.5927443504333496\n",
            "epoch: 3, batch: 6000, loss: 0.30491161346435547\n",
            "epoch: 4, batch: 600, loss: 0.18695197999477386\n",
            "epoch: 4, batch: 1200, loss: 0.4785535931587219\n",
            "epoch: 4, batch: 1800, loss: 0.3629383146762848\n",
            "epoch: 4, batch: 2400, loss: 0.3711550533771515\n",
            "epoch: 4, batch: 3000, loss: 0.08984179049730301\n",
            "epoch: 4, batch: 3600, loss: 0.4157005250453949\n",
            "epoch: 4, batch: 4200, loss: 0.17961345613002777\n",
            "epoch: 4, batch: 4800, loss: 0.32643088698387146\n",
            "epoch: 4, batch: 5400, loss: 0.1609167456626892\n",
            "epoch: 4, batch: 6000, loss: 1.0267586708068848\n",
            "This whole thing took colab -190.1757035255432 to process.\n"
          ]
        }
      ]
    },
    {
      "cell_type": "code",
      "source": [
        "plt.plot([tl.item() for tl in train_losses])"
      ],
      "metadata": {
        "colab": {
          "base_uri": "https://localhost:8080/",
          "height": 447
        },
        "id": "XXFaoUTa7kpv",
        "outputId": "a46f3807-f578-4506-d017-1303275b36af"
      },
      "execution_count": 34,
      "outputs": [
        {
          "output_type": "execute_result",
          "data": {
            "text/plain": [
              "[<matplotlib.lines.Line2D at 0x7cff907da230>]"
            ]
          },
          "metadata": {},
          "execution_count": 34
        },
        {
          "output_type": "display_data",
          "data": {
            "text/plain": [
              "<Figure size 640x480 with 1 Axes>"
            ],
            "image/png": "[encoded data removed]"
          },
          "metadata": {}
        }
      ]
    },
    {
      "cell_type": "code",
      "source": [
        "test_correct = []\n",
        "test_losses = []\n",
        "for i in range(5):\n",
        "  trn_corr = 0\n",
        "  with torch.no_grad():\n",
        "    for b, (X_test, y_test) in enumerate(test_loader):\n",
        "      y_val = model(X_test)\n",
        "      loss = criterion(y_val, y_test)\n",
        "      predicted = torch.max(y_val.data, 1)[1]\n",
        "      trn_corr += (predicted==y_test).sum()\n",
        "  test_correct.append(trn_corr)\n",
        "  test_losses.append(loss)"
      ],
      "metadata": {
        "id": "1TJuDiEbAGrm"
      },
      "execution_count": 35,
      "outputs": []
    },
    {
      "cell_type": "code",
      "source": [
        "plt.plot([(tl/600).item() for tl in train_correct], label='train')\n",
        "plt.plot([(tl/100).item() for tl in test_correct], label='test')\n",
        "plt.legend()"
      ],
      "metadata": {
        "colab": {
          "base_uri": "https://localhost:8080/",
          "height": 451
        },
        "id": "qgTL6K2xAyze",
        "outputId": "f3ca41cb-1828-41e7-931a-cb89af193e1d"
      },
      "execution_count": 39,
      "outputs": [
        {
          "output_type": "execute_result",
          "data": {
            "text/plain": [
              "<matplotlib.legend.Legend at 0x7cff90763820>"
            ]
          },
          "metadata": {},
          "execution_count": 39
        },
        {
          "output_type": "display_data",
          "data": {
            "text/plain": [
              "<Figure size 640x480 with 1 Axes>"
            ],
            "image/png": "[encoded data removed]"
          },
          "metadata": {}
        }
      ]
    },
    {
      "cell_type": "code",
      "source": [
        "plt.imshow(test_data[1488][0].reshape(28,28))"
      ],
      "metadata": {
        "colab": {
          "base_uri": "https://localhost:8080/",
          "height": 447
        },
        "id": "UwZs3CybBNLe",
        "outputId": "0936d4e1-4c89-41f6-fd9d-c24ae4078cf6"
      },
      "execution_count": 42,
      "outputs": [
        {
          "output_type": "execute_result",
          "data": {
            "text/plain": [
              "<matplotlib.image.AxesImage at 0x7cff91842aa0>"
            ]
          },
          "metadata": {},
          "execution_count": 42
        },
        {
          "output_type": "display_data",
          "data": {
            "text/plain": [
              "<Figure size 640x480 with 1 Axes>"
            ],
            "image/png": "[encoded data removed]"
          },
          "metadata": {}
        }
      ]
    },
    {
      "cell_type": "code",
      "source": [
        "with torch.no_grad():\n",
        "  guess = model(test_data[1488][0].view(1,1,28,28))\n",
        "  print(torch.max(guess,1)[1])"
      ],
      "metadata": {
        "colab": {
          "base_uri": "https://localhost:8080/"
        },
        "id": "I4qnR8iyBodt",
        "outputId": "33d44007-3df4-481c-9de7-cf60af9b8205"
      },
      "execution_count": 45,
      "outputs": [
        {
          "output_type": "stream",
          "name": "stdout",
          "text": [
            "tensor([9])\n"
          ]
        }
      ]
    },
    {
      "cell_type": "code",
      "source": [
        "plt.imshow(test_data[4275][0].reshape(28,28))"
      ],
      "metadata": {
        "colab": {
          "base_uri": "https://localhost:8080/",
          "height": 447
        },
        "id": "p9OK18AfB9M5",
        "outputId": "32640e2d-dab1-415e-d888-923cc9b764a3"
      },
      "execution_count": 51,
      "outputs": [
        {
          "output_type": "execute_result",
          "data": {
            "text/plain": [
              "<matplotlib.image.AxesImage at 0x7cff914d5480>"
            ]
          },
          "metadata": {},
          "execution_count": 51
        },
        {
          "output_type": "display_data",
          "data": {
            "text/plain": [
              "<Figure size 640x480 with 1 Axes>"
            ],
            "image/png": "[encoded data removed]"
          },
          "metadata": {}
        }
      ]
    },
    {
      "cell_type": "code",
      "source": [
        "with torch.no_grad():\n",
        "  whatisthis = model(test_data[4275][0].view(1,1,28,28))\n",
        "  print(f\"guess: {torch.max(whatisthis, 1)[1].item()}, actual: {test_data[4275][1]}\")"
      ],
      "metadata": {
        "colab": {
          "base_uri": "https://localhost:8080/"
        },
        "id": "FRaHrA0VCb5n",
        "outputId": "29fb8d90-fc0f-4bab-f396-4a1145f56f7f"
      },
      "execution_count": 52,
      "outputs": [
        {
          "output_type": "stream",
          "name": "stdout",
          "text": [
            "guess: 0, actual: 0\n"
          ]
        }
      ]
    },
    {
      "cell_type": "code",
      "source": [
        "test_data[4275][1]"
      ],
      "metadata": {
        "id": "Xn41Z7UkCzF2"
      },
      "execution_count": null,
      "outputs": []
    }
  ]
}