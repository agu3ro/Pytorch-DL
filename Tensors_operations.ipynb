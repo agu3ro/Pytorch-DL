{
  "nbformat": 4,
  "nbformat_minor": 0,
  "metadata": {
    "colab": {
      "provenance": [],
      "gpuType": "T4",
      "authorship_tag": "ABX9TyNwTY4CSuR7+j/1OC3T3upI",
      "include_colab_link": true
    },
    "kernelspec": {
      "name": "python3",
      "display_name": "Python 3"
    },
    "language_info": {
      "name": "python"
    },
    "accelerator": "GPU"
  },
  "cells": [
    {
      "cell_type": "markdown",
      "metadata": {
        "id": "view-in-github",
        "colab_type": "text"
      },
      "source": [
        "<a href=\"https://colab.research.google.com/github/agu3ro/Pytorch-DL/blob/main/Tensors_operations.ipynb\" target=\"_parent\"><img src=\"https://colab.research.google.com/assets/colab-badge.svg\" alt=\"Open In Colab\"/></a>"
      ]
    },
    {
      "cell_type": "code",
      "execution_count": 14,
      "metadata": {
        "id": "DbymS8waB6It"
      },
      "outputs": [],
      "source": [
        "import torch"
      ]
    },
    {
      "cell_type": "code",
      "source": [
        "my_torch = torch.arange(10)\n",
        "my_torch"
      ],
      "metadata": {
        "colab": {
          "base_uri": "https://localhost:8080/"
        },
        "id": "JSr435iP_kaK",
        "outputId": "37b112fa-0a3f-41ec-af47-eed6fc24b0ba"
      },
      "execution_count": 15,
      "outputs": [
        {
          "output_type": "execute_result",
          "data": {
            "text/plain": [
              "tensor([0, 1, 2, 3, 4, 5, 6, 7, 8, 9])"
            ]
          },
          "metadata": {},
          "execution_count": 15
        }
      ]
    },
    {
      "cell_type": "markdown",
      "source": [
        "# RESHAPE VS VIEW"
      ],
      "metadata": {
        "id": "tnocdI8BB_rj"
      }
    },
    {
      "cell_type": "code",
      "source": [
        "my_torch_1 = my_torch.reshape(5,2)\n",
        "my_torch_1"
      ],
      "metadata": {
        "colab": {
          "base_uri": "https://localhost:8080/"
        },
        "id": "5dUPUfZrAEt1",
        "outputId": "e856b2d6-a4a7-44b6-f3e8-556d5b29da23"
      },
      "execution_count": 16,
      "outputs": [
        {
          "output_type": "execute_result",
          "data": {
            "text/plain": [
              "tensor([[0, 1],\n",
              "        [2, 3],\n",
              "        [4, 5],\n",
              "        [6, 7],\n",
              "        [8, 9]])"
            ]
          },
          "metadata": {},
          "execution_count": 16
        }
      ]
    },
    {
      "cell_type": "markdown",
      "source": [
        "We can also reshape if we dont know how many items are in there using -1 (BUT STILL NUMBERS BEFORE SHOULD MAKE SENSE WHEN MULTIPLYING)"
      ],
      "metadata": {
        "id": "AobL4LHqAecl"
      }
    },
    {
      "cell_type": "code",
      "source": [
        "my_torch_2 = torch.arange(10)\n",
        "my_torch_2 = my_torch_2.reshape(2,-1)\n",
        "my_torch_2"
      ],
      "metadata": {
        "colab": {
          "base_uri": "https://localhost:8080/"
        },
        "id": "sYhF_oZ4AiAi",
        "outputId": "35c32aef-2f9b-425e-9421-969caad23fe5"
      },
      "execution_count": 17,
      "outputs": [
        {
          "output_type": "execute_result",
          "data": {
            "text/plain": [
              "tensor([[0, 1, 2, 3, 4],\n",
              "        [5, 6, 7, 8, 9]])"
            ]
          },
          "metadata": {},
          "execution_count": 17
        }
      ]
    },
    {
      "cell_type": "code",
      "source": [
        "my_torch_3 = torch.arange(10)\n",
        "my_torch_4 = my_torch_3.view(2,-1)\n",
        "my_torch_4\n"
      ],
      "metadata": {
        "colab": {
          "base_uri": "https://localhost:8080/"
        },
        "id": "7jE3VFL3Bbdo",
        "outputId": "48859478-954c-44a2-e261-4223f7876f1b"
      },
      "execution_count": 18,
      "outputs": [
        {
          "output_type": "execute_result",
          "data": {
            "text/plain": [
              "tensor([[0, 1, 2, 3, 4],\n",
              "        [5, 6, 7, 8, 9]])"
            ]
          },
          "metadata": {},
          "execution_count": 18
        }
      ]
    },
    {
      "cell_type": "markdown",
      "source": [
        "# with reshape and view they will update\n",
        "# (as in view, reshape also makes tensors linked)"
      ],
      "metadata": {
        "id": "gC2IdZMjCYQp"
      }
    },
    {
      "cell_type": "code",
      "source": [
        "my_torch_5 = torch.arange(10)\n",
        "my_torch_5"
      ],
      "metadata": {
        "colab": {
          "base_uri": "https://localhost:8080/"
        },
        "id": "UbQ7WVsPCilM",
        "outputId": "e7ee5834-ff1e-4904-f57e-2750e7eeec63"
      },
      "execution_count": 19,
      "outputs": [
        {
          "output_type": "execute_result",
          "data": {
            "text/plain": [
              "tensor([0, 1, 2, 3, 4, 5, 6, 7, 8, 9])"
            ]
          },
          "metadata": {},
          "execution_count": 19
        }
      ]
    },
    {
      "cell_type": "code",
      "source": [
        "my_torch_6 = my_torch_5.reshape(2,5)\n",
        "my_torch_6"
      ],
      "metadata": {
        "colab": {
          "base_uri": "https://localhost:8080/"
        },
        "id": "2O-jDfxZCnMH",
        "outputId": "a2fa7824-9232-4ae2-98a0-16e9ffadbb4e"
      },
      "execution_count": 20,
      "outputs": [
        {
          "output_type": "execute_result",
          "data": {
            "text/plain": [
              "tensor([[0, 1, 2, 3, 4],\n",
              "        [5, 6, 7, 8, 9]])"
            ]
          },
          "metadata": {},
          "execution_count": 20
        }
      ]
    },
    {
      "cell_type": "code",
      "source": [
        "my_torch_5[1] = 1488\n",
        "print(my_torch_5)\n",
        "print(my_torch_6)"
      ],
      "metadata": {
        "colab": {
          "base_uri": "https://localhost:8080/"
        },
        "id": "ux4W-bZWCsTS",
        "outputId": "76d3d718-1f3a-4234-a033-b2d98c5fdedf"
      },
      "execution_count": 25,
      "outputs": [
        {
          "output_type": "stream",
          "name": "stdout",
          "text": [
            "tensor([   0, 1488,    2,    3,    4, 1488, 1488, 1488, 1488, 1488])\n",
            "tensor([[   0, 1488,    2,    3,    4],\n",
            "        [1488, 1488, 1488, 1488, 1488]])\n"
          ]
        }
      ]
    },
    {
      "cell_type": "markdown",
      "source": [
        "# Slices"
      ],
      "metadata": {
        "id": "R6yAuoaMDw9a"
      }
    },
    {
      "cell_type": "code",
      "source": [
        "my_torch_7 = torch.arange(14)\n",
        "# Grab a specific item\n",
        "my_torch_7[7]"
      ],
      "metadata": {
        "colab": {
          "base_uri": "https://localhost:8080/"
        },
        "id": "9lfexnIfDyJw",
        "outputId": "e654f8a6-e3d1-4229-a04a-dfda8d95803c"
      },
      "execution_count": 39,
      "outputs": [
        {
          "output_type": "execute_result",
          "data": {
            "text/plain": [
              "tensor(7)"
            ]
          },
          "metadata": {},
          "execution_count": 39
        }
      ]
    },
    {
      "cell_type": "code",
      "source": [
        "# Grab Slice\n",
        "my_torch_8 = my_torch_7.reshape(7,2)\n",
        "my_torch_8"
      ],
      "metadata": {
        "colab": {
          "base_uri": "https://localhost:8080/"
        },
        "id": "cpIZQe4MEODq",
        "outputId": "fffcf512-d5fd-4b7b-a598-c59482996e5b"
      },
      "execution_count": 41,
      "outputs": [
        {
          "output_type": "execute_result",
          "data": {
            "text/plain": [
              "tensor([[ 0,  1],\n",
              "        [ 2,  3],\n",
              "        [ 4,  5],\n",
              "        [ 6,  7],\n",
              "        [ 8,  9],\n",
              "        [10, 11],\n",
              "        [12, 13]])"
            ]
          },
          "metadata": {},
          "execution_count": 41
        }
      ]
    },
    {
      "cell_type": "code",
      "source": [
        "my_torch_8[:,1]"
      ],
      "metadata": {
        "colab": {
          "base_uri": "https://localhost:8080/"
        },
        "id": "uEVGiKzSEeuY",
        "outputId": "b01696b3-39de-4028-ff61-3b69e47c63dc"
      },
      "execution_count": 43,
      "outputs": [
        {
          "output_type": "execute_result",
          "data": {
            "text/plain": [
              "tensor([ 1,  3,  5,  7,  9, 11, 13])"
            ]
          },
          "metadata": {},
          "execution_count": 43
        }
      ]
    },
    {
      "cell_type": "markdown",
      "source": [
        "Return column"
      ],
      "metadata": {
        "id": "lag3yOdVEoq9"
      }
    },
    {
      "cell_type": "code",
      "source": [
        "my_torch_8[:,1:] # : = all rows; 1: - all columns after the 1st one"
      ],
      "metadata": {
        "colab": {
          "base_uri": "https://localhost:8080/"
        },
        "id": "SHjY2NdTErHa",
        "outputId": "9158686c-46bd-4c15-d01c-4eb183cb81e8"
      },
      "execution_count": 44,
      "outputs": [
        {
          "output_type": "execute_result",
          "data": {
            "text/plain": [
              "tensor([[ 1],\n",
              "        [ 3],\n",
              "        [ 5],\n",
              "        [ 7],\n",
              "        [ 9],\n",
              "        [11],\n",
              "        [13]])"
            ]
          },
          "metadata": {},
          "execution_count": 44
        }
      ]
    }
  ]
}